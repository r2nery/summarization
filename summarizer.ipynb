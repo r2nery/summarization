{
 "cells": [
  {
   "cell_type": "code",
   "execution_count": 38,
   "metadata": {},
   "outputs": [],
   "source": [
    "from transformers import pipeline\n",
    "import re\n",
    "\n",
    "summarizer = pipeline(\"summarization\", model=\"facebook/bart-large-cnn\")"
   ]
  },
  {
   "cell_type": "code",
   "execution_count": 33,
   "metadata": {},
   "outputs": [],
   "source": [
    "ARTICLE = \"\"\" \n",
    "Interest in prices and in income distribution survived into the neo-classical era, but\n",
    "labour ceased to be unlimited in supply, and the formal model of economic analysis\n",
    "was no longer expected to explain the expansion of the system through time. These\n",
    "changes of assumption and of interest served well enough in the European parts of\n",
    "the world, where labour was indeed limited in supply, and where for the next half\n",
    "century it looked as if economic expansion could indeed be assumed to be\n",
    "automatic. On the other hand over the greater part of Asia labour is unlimited in\n",
    "supply, and economic expansion certainly cannot be taken for granted. Asia’s\n",
    "problems, however, attracted very few economists during the neo-classical era\n",
    "(even the Asian economists themselves absorbed the assumptions and\n",
    "preoccupations of European economics) and hardly any progress has been made for\n",
    "nearly a century with the kind of economics which would throw light upon the\n",
    "problems. of countries with surplus populations.\n",
    "When Kevnes’ General Theory appeared, it was thought at first that this was the\n",
    ".book which would illuminate the problems of countries with surplus labour, since\n",
    "it assumed in unlimited supply of labour at the current price, and also, in its final\n",
    "pages, made a few remarks on secular economic expansion. Further reflection,\n",
    "however, revealed that Keynes’s book assumed not only that labour is unlimited in\n",
    "supply, but also, and more fundamentally, that land and capital are unlimited in\n",
    "supply-more fundamentally both in the short run sense that once the monetary tap is\n",
    "turned the real limit to expansion is not physical resources but the limited supply of\n",
    "labour, and also in the long run sense that secular expansion is embarrassed not by a\n",
    "shortage but by a superfluity of saving. Given the Keynesian remedies the\n",
    "neoclassical system comes into its own again. Hence, from the point of view of\n",
    "countries with surplus labour, Keynesianism is only a footnote to\n",
    "neoclassicism-albeit a long, important and fascinating footnote. The student of such\n",
    "economies has therefore to work right back to the classical economists before he\n",
    "finds an analytical framework into which he can relevantly fit his problems.\n",
    "The purpose of this essay is thus to see what can be made of the classical\n",
    "framework in solving problems of distribution, accumulation, and growth, first in a\n",
    "closed and then in an open economy. It is not primarily an essay in the history of\n",
    "economic doctrine, and will not therefore spend time on individual writers,\n",
    "enquiring what they meant, or assessing its validity or truth. Our purpose is rather\n",
    "to bring their framework up-to-date, in the light of modern knowledge, and to see\n",
    "how far it then helps us to understand the contemporary problems of large areas of\n",
    "the earth. \n",
    "\"\"\"\n",
    "length = 200"
   ]
  },
  {
   "cell_type": "code",
   "execution_count": null,
   "metadata": {},
   "outputs": [],
   "source": [
    "rep = {\n",
    "    \"Space for Notes ↓\" : \"\",\n",
    "    \n",
    "}"
   ]
  },
  {
   "cell_type": "code",
   "execution_count": 46,
   "metadata": {},
   "outputs": [
    {
     "name": "stdout",
     "output_type": "stream",
     "text": [
      "closed and then in an open economy. It is not primarily an essay in the history of economic doctrine, and will not therefore spend time on individual writers, enquiring what they meant, or assessing its validity or truth. Our purpose is rather to bring their framework up-to-date, in the light of modern knowledge, and to see how far it then helps us to understand the contemporary problems of large areas of the earth.  1 Space for Notes ↓  \fW.A.Lewis on Development with Unlimited Supplies of Labor I. The Closed Economy. 2. We have to begin by elaborating the assumption of an unlimited supply of labour, and by establishing that it is a useful assumption. We are not arguing, let it be repeated; that this assumption should be made for all areas of the world. It is obviously not true of the United Kingdom, or of North West Europe. It is not true either of some of the countries usually now lumped together as under-developed; for example there is an acute shortage of male labour in some parts of Africa and of Latin America. On the other hand it is obviously relevant assumption for the economies of Egypt, of India, or of Jamaica. Our present task is not to supersede neo-classical economics, but merely to elaborate a different framework for those countries which the neo-classical (and Keynesian) assumptions do not fit. In the first place, an unlimited supply of labour may be said to exist in those countries where population is so large relatively to capital and natural resources, that there are large sectors of the economy where the marginal productivity of labour is negligible, zero, or even negative. Several writers have drawn attention to the existence of such “disguised” unemployment in the agricultural sector, demonstrating in each case that the family holding is so small that if some members of the family obtained other employment the remaining members could cultivate the holding just as well (of course they would have to work harder: the argument includes the proposition that they would be willing to work harder in these circumstances). The phenomenon is not, however, by any means confined to the countryside. Another large sector to which it applies is the whole range of casual jobs-the workers on the docks, the young men who rush forward asking to carry your bag as you appear, the jobbing gardener, and the like. These occupations usually have a multiple of the number they need, each of them earning very small sums from occasional employment ; frequently their number could be halved without reducing output in this sector. Petty retail trading is also exactly of this type; it is enormously expanded in overpopulated economies; each trader makes only a few sales ; markets are crowded with stalls, and if the number of stalls were greatly reduced the consumers would be no whit worse off-they might even be better off, since retail margins might fall. Twenty years ago one could\n"
     ]
    }
   ],
   "source": [
    "with open('lewis.txt', 'r') as file:\n",
    "    data = file.read().replace('\\n', ' ')\n",
    "\n",
    "def replaceAll(text, dic):\n",
    "    for i, j in dic.items():\n",
    "        text = text.replace(i, j)\n",
    "    return text\n",
    "\n",
    "def split_by_number_of_words(data, number_of_words):\n",
    "    regexp = re.compile(r'((?:\\w+\\W+){0,%d}\\w+)' % (number_of_words - 1))\n",
    "    return regexp.findall(data)\n",
    "\n",
    "split_data = split_by_number_of_words(data,500)\n",
    "print(split_data[1])"
   ]
  },
  {
   "cell_type": "code",
   "execution_count": 47,
   "metadata": {},
   "outputs": [
    {
     "name": "stdout",
     "output_type": "stream",
     "text": [
      "Lewis on Development with Unlimited Supplies of Labor I. The Closed Economy. closed and then in an open economy. W.A.Lewis on development with unlimited supplies of labour. I. A. Lewis on development of the economy with unlimited supply of labour, closed and open economies. closed. and open. The closed economy, open. and closed economies. A closed. economy, and a open economy, with unlimited. supplies of. labour. closed, open, and closed. It is not primarily an essay in the history of economic doctrine, and will not spend time on individual writers, enquiring what they meant, or assessing its validity or truth. Our purpose is rather to bring their framework up-to-date, in the light of modern knowledge, and to see how far it then helps us to understand the contemporary problems of large areas of the earth. We are not arguing, let it be repeated; that this assumption should be made for all area of the world.\n"
     ]
    }
   ],
   "source": [
    "print(summarizer(split_data[0], max_length=length, min_length=length, do_sample=False)[0].get('summary_text'))"
   ]
  }
 ],
 "metadata": {
  "kernelspec": {
   "display_name": "Python 3.9.13 ('.venv': venv)",
   "language": "python",
   "name": "python3"
  },
  "language_info": {
   "codemirror_mode": {
    "name": "ipython",
    "version": 3
   },
   "file_extension": ".py",
   "mimetype": "text/x-python",
   "name": "python",
   "nbconvert_exporter": "python",
   "pygments_lexer": "ipython3",
   "version": "3.9.13"
  },
  "orig_nbformat": 4,
  "vscode": {
   "interpreter": {
    "hash": "7b38edf9e08555c7b9092c430fdb973d5b1034522153cf73192c48648b89347d"
   }
  }
 },
 "nbformat": 4,
 "nbformat_minor": 2
}
