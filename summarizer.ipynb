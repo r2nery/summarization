{
 "cells": [
  {
   "cell_type": "code",
   "execution_count": 1,
   "metadata": {},
   "outputs": [],
   "source": [
    "from transformers import pipeline\n",
    "import re\n",
    "from alive_progress import alive_bar\n",
    "\n",
    "summarizer = pipeline(\"summarization\", model=\"facebook/bart-large-cnn\")"
   ]
  },
  {
   "cell_type": "code",
   "execution_count": 8,
   "metadata": {},
   "outputs": [],
   "source": [
    "length = 500\n",
    "\n",
    "rep = {\n",
    "    \"Space for Notes ↓\" : \"\",\n",
    "    \"W.A.Lewis on Development with Unlimited Supplies of Labor\" : \"\",\n",
    "}\n",
    "\n",
    "splitn = {\n",
    "    \"SPLIT\" : \"\\n\"\n",
    "}"
   ]
  },
  {
   "cell_type": "code",
   "execution_count": 3,
   "metadata": {},
   "outputs": [],
   "source": [
    "def replaceAll(text, dic):\n",
    "    for i, j in dic.items():\n",
    "        text = text.replace(i, j)\n",
    "    return text\n",
    "\n",
    "def split_by_number_of_words(data, number_of_words):\n",
    "    regexp = re.compile(r'((?:\\w+\\W+){0,%d}\\w+)' % (number_of_words - 1))\n",
    "    return regexp.findall(data)"
   ]
  },
  {
   "cell_type": "code",
   "execution_count": 18,
   "metadata": {},
   "outputs": [
    {
     "name": "stdout",
     "output_type": "stream",
     "text": [
      "Number of pages generated: 8\n"
     ]
    }
   ],
   "source": [
    "with open('lewis.txt', 'r') as file:\n",
    "    data = file.read().replace('\\n', ' ')\n",
    "data = replaceAll(data, rep)\n",
    "\n",
    "split_data = split_by_number_of_words(data,800)\n",
    "print(f\"Number of pages generated: {len(split_data)}\")"
   ]
  },
  {
   "cell_type": "code",
   "execution_count": 19,
   "metadata": {},
   "outputs": [
    {
     "name": "stdout",
     "output_type": "stream",
     "text": [
      "                                                                                                                        \r"
     ]
    },
    {
     "name": "stderr",
     "output_type": "stream",
     "text": [
      "on 7: Your max_length is set to 500, but you input_length is only 426. You might consider decreasing max_length manually, e.g. summarizer('...', max_length=213)\n"
     ]
    },
    {
     "name": "stdout",
     "output_type": "stream",
     "text": [
      "-> Summarizer |████████████████████████████████████████| 8/8 [100%] in 9:17.1 (0.01/s)                                  \n"
     ]
    }
   ],
   "source": [
    "summary = \"\"\n",
    "\n",
    "with alive_bar(len(split_data), title=\"-> Summarizer\", spinner=\"dots_waves\", bar=\"smooth\", force_tty=True) as bar:\n",
    "    for i in range(0,len(split_data)):\n",
    "        summary += summarizer(split_data[i], max_length=length, min_length=length, do_sample=False)[0].get('summary_text') + \" SPLIT \"\n",
    "        bar()"
   ]
  },
  {
   "cell_type": "code",
   "execution_count": 20,
   "metadata": {},
   "outputs": [
    {
     "name": "stdout",
     "output_type": "stream",
     "text": [
      "Original length: 33052\n",
      "New length: 18143\n"
     ]
    }
   ],
   "source": [
    "print(f\"Original length: {len(data)}\")\n",
    "print(f\"New length: {len(summary)}\")"
   ]
  },
  {
   "cell_type": "code",
   "execution_count": null,
   "metadata": {},
   "outputs": [],
   "source": [
    "summary = replaceAll(summary, splitn)\n",
    "print(summary)\n",
    "with open(\"summary.txt\", \"a\") as f:\n",
    "    print(summary, file=f)"
   ]
  }
 ],
 "metadata": {
  "kernelspec": {
   "display_name": "Python 3.9.13 ('.venv': venv)",
   "language": "python",
   "name": "python3"
  },
  "language_info": {
   "codemirror_mode": {
    "name": "ipython",
    "version": 3
   },
   "file_extension": ".py",
   "mimetype": "text/x-python",
   "name": "python",
   "nbconvert_exporter": "python",
   "pygments_lexer": "ipython3",
   "version": "3.9.13"
  },
  "orig_nbformat": 4,
  "vscode": {
   "interpreter": {
    "hash": "7b38edf9e08555c7b9092c430fdb973d5b1034522153cf73192c48648b89347d"
   }
  }
 },
 "nbformat": 4,
 "nbformat_minor": 2
}
